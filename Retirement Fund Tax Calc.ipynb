{
 "cells": [
  {
   "cell_type": "code",
   "execution_count": 19,
   "metadata": {},
   "outputs": [],
   "source": [
    "#Withdrawal table\n",
    "def withdrawal():\n",
    "    \n",
    "    \n",
    "    #Prompt user to enter the amount they will be allowed to withdraw from their retirement fund\n",
    "    #Take data in as a float in case user enters very specific amount\n",
    "    withdraw_lump_sum = float(input(\"How much will you withdraw from your retirement fund?: \"))\n",
    "    \n",
    "    \n",
    "    #Calculate tax paid on lump sum\n",
    "    #Answer is derived from the amount the user is withdrawing and based on the SARS retirement tax tables\n",
    "    if withdraw_lump_sum <= 25000:\n",
    "        withdraw_tax = 0;\n",
    "\n",
    "    elif withdraw_lump_sum <= 660000:\n",
    "        withdraw_tax = withdraw_lump_sum * 0.18\n",
    "\n",
    "    elif withdraw_lump_sum <= 990000:\n",
    "        withdraw_tax = ((withdraw_lump_sum - 660000) * 0.27) + 114300\n",
    "\n",
    "    else:\n",
    "        withdraw_tax = ((withdraw_lump_sum - 990000) * 0.36) + 203400\n",
    "\n",
    "    \n",
    "    #Withdraw calculated tax amount from original withdrawal amount to get lump sum value after tax\n",
    "    withdraw_lump_sum = withdraw_lump_sum - withdraw_tax\n",
    "    \n",
    "    \n",
    "    #Display results to user\n",
    "    print(\"Total take home amount = R{}\".format(withdraw_lump_sum))\n",
    "    print(\"Total tax = R{}\".format(withdraw_tax))"
   ]
  },
  {
   "cell_type": "code",
   "execution_count": 20,
   "metadata": {},
   "outputs": [],
   "source": [
    "#Retirement/Retrenchment/Death Table\n",
    "def retirement():\n",
    "    \n",
    "    \n",
    "    #Prompt user to enter the amount they will be allowed to withdraw from their retirement fund\n",
    "    #Take data in as a float in case user enters very specific amount\n",
    "    retire_lump_sum = float(input(\"How much will you withdraw from your retirement fund?: \"))\n",
    "    \n",
    "    \n",
    "    #Calculate tax paid on lump sum\n",
    "    #Answer is derived from the amount the user is withdrawing and based on the SARS retirement tax tables\n",
    "    if retire_lump_sum <= 500000:\n",
    "        retire_tax = 0\n",
    "\n",
    "    elif retire_lump_sum <= 700000:\n",
    "        retire_tax = (retire_lump_sum - 500000) * 0.18\n",
    "\n",
    "    elif retire_lump_sum <= 1050000:\n",
    "        retire_tax = ((retire_lump_sum - 700000) * 0.27) + 36000\n",
    "\n",
    "    else:\n",
    "        retire_tax = ((retire_lump_sum - 1050000) * 0.36) + 130500\n",
    "\n",
    "        \n",
    "    #Withdraw calculated tax amount from original withdrawal amount to get lump sum value after tax\n",
    "    retire_lump_sum = retire_lump_sum - retire_tax    \n",
    "    \n",
    "    \n",
    "    #Display results to user\n",
    "    print (\"total tax = R{}\".format(retire_tax))\n",
    "    print (\"total take home = R{}\".format(retire_lump_sum))"
   ]
  },
  {
   "cell_type": "code",
   "execution_count": 21,
   "metadata": {},
   "outputs": [
    {
     "name": "stdout",
     "output_type": "stream",
     "text": [
      "Retirement Fund Tax Calculator\n",
      "\n",
      "Are you withdrawing before or after Retirement/Death/Retrenchment? \n",
      "a)Before \n",
      "b)After\n",
      " \n"
     ]
    },
    {
     "ename": "IndexError",
     "evalue": "string index out of range",
     "output_type": "error",
     "traceback": [
      "\u001b[1;31m---------------------------------------------------------------------------\u001b[0m",
      "\u001b[1;31mIndexError\u001b[0m                                Traceback (most recent call last)",
      "\u001b[1;32m<ipython-input-21-5993aedccbad>\u001b[0m in \u001b[0;36m<module>\u001b[1;34m\u001b[0m\n\u001b[0;32m     10\u001b[0m     \u001b[0mwithdrawal_type\u001b[0m \u001b[1;33m=\u001b[0m \u001b[0minput\u001b[0m\u001b[1;33m(\u001b[0m\u001b[1;34m\"Are you withdrawing before or after Retirement/Death/Retrenchment? \\na)Before \\nb)After\\n \"\u001b[0m\u001b[1;33m)\u001b[0m\u001b[1;33m\u001b[0m\u001b[1;33m\u001b[0m\u001b[0m\n\u001b[0;32m     11\u001b[0m \u001b[1;33m\u001b[0m\u001b[0m\n\u001b[1;32m---> 12\u001b[1;33m     \u001b[1;32mif\u001b[0m \u001b[0mwithdrawal_type\u001b[0m\u001b[1;33m[\u001b[0m\u001b[1;36m0\u001b[0m\u001b[1;33m]\u001b[0m\u001b[1;33m.\u001b[0m\u001b[0mlower\u001b[0m\u001b[1;33m(\u001b[0m\u001b[1;33m)\u001b[0m \u001b[1;33m==\u001b[0m \u001b[1;34m\"a\"\u001b[0m\u001b[1;33m:\u001b[0m\u001b[1;33m\u001b[0m\u001b[1;33m\u001b[0m\u001b[0m\n\u001b[0m\u001b[0;32m     13\u001b[0m         \u001b[0mwithdrawal\u001b[0m\u001b[1;33m(\u001b[0m\u001b[1;33m)\u001b[0m\u001b[1;33m\u001b[0m\u001b[1;33m\u001b[0m\u001b[0m\n\u001b[0;32m     14\u001b[0m         \u001b[0mnext_move\u001b[0m \u001b[1;33m=\u001b[0m \u001b[0minput\u001b[0m\u001b[1;33m(\u001b[0m\u001b[1;34m\"\\nMake another calculation? (Enter Y/N):\\n \"\u001b[0m\u001b[1;33m)\u001b[0m\u001b[1;33m\u001b[0m\u001b[1;33m\u001b[0m\u001b[0m\n",
      "\u001b[1;31mIndexError\u001b[0m: string index out of range"
     ]
    }
   ],
   "source": [
    "#Welcome Message\n",
    "import ipywidgets as widgets\n",
    "from IPython.display import display\n",
    "print (\"Retirement Fund Tax Calculator\\n\")\n",
    "\n",
    "#While loop in case user enters invalid input\n",
    "while True:\n",
    "    \n",
    "    #\n",
    "    withdrawal_type = input(\"Are you withdrawing before or after Retirement/Death/Retrenchment? \\na)Before \\nb)After\\n \")\n",
    "    \n",
    "    if withdrawal_type[0].lower() == \"a\":\n",
    "        withdrawal()\n",
    "        next_move = input(\"\\nMake another calculation? (Enter Y/N):\\n \")\n",
    "        \n",
    "        if next_move[0].lower() == \"y\":\n",
    "            continue\n",
    "        else:\n",
    "            print(\"\\nGoodbye :)\")\n",
    "            break\n",
    "    \n",
    "    elif withdrawal_type[0].lower() == \"b\":\n",
    "        retirement()\n",
    "        next_move = input(\"\\nMake another calculation? (Enter Y/N):\\n \")\n",
    "        \n",
    "        if next_move[0].lower() == \"y\":\n",
    "            continue\n",
    "        else:\n",
    "            print(\"\\nGoodbye :)\")\n",
    "            break\n",
    "        \n",
    "    elif withdrawal_type[0].lower() == \"q\":\n",
    "        print (\"\\nGoodbye :)\")\n",
    "        break\n",
    "        \n",
    "    else:\n",
    "        print(\"Please enter 'a' or 'b':\\n \")\n",
    "        continue\n",
    "        \n",
    "    \n",
    "        \n",
    "        "
   ]
  },
  {
   "cell_type": "code",
   "execution_count": null,
   "metadata": {},
   "outputs": [],
   "source": []
  },
  {
   "cell_type": "code",
   "execution_count": 5,
   "metadata": {},
   "outputs": [
    {
     "data": {
      "application/vnd.jupyter.widget-view+json": {
       "model_id": "ba7c21400fd440fcaae5759b6196fe85",
       "version_major": 2,
       "version_minor": 0
      },
      "text/plain": [
       "RadioButtons(description='Pizza topping:', options=('pepperoni', 'pineapple', 'anchovies'), value='pepperoni')"
      ]
     },
     "metadata": {},
     "output_type": "display_data"
    }
   ],
   "source": [
    "import ipywidgets as widgets\n",
    "from IPython.display import display\n",
    "\n",
    "withdrawal_type = widgets.RadioButtons(\n",
    "    options=['pepperoni', 'pineapple', 'anchovies'],\n",
    "    # value='pineapple',\n",
    "    description='Pizza topping:',\n",
    "    disabled=False\n",
    ")\n",
    "\n",
    "display(withdrawal_type)\n",
    "\n",
    "\n"
   ]
  },
  {
   "cell_type": "code",
   "execution_count": 6,
   "metadata": {},
   "outputs": [],
   "source": [
    "def user_choice():\n",
    "    withdrawal_type = widgets.RadioButtons(\n",
    "    options=['Before', 'After', 'Quit'],\n",
    "    #value = \"Quit\",\n",
    "    description='Are you withdrawing before or after Retirement/Death/Retrenchment?:',\n",
    "    disabled=False\n",
    "    )\n",
    "    display(withdrawal_type)\n",
    "    "
   ]
  },
  {
   "cell_type": "code",
   "execution_count": 12,
   "metadata": {},
   "outputs": [
    {
     "data": {
      "application/vnd.jupyter.widget-view+json": {
       "model_id": "82c3c5d022854994b186d416cf05f559",
       "version_major": 2,
       "version_minor": 0
      },
      "text/plain": [
       "RadioButtons(description='Are you withdrawing before or after Retirement/Death/Retrenchment?:', options=('Befo…"
      ]
     },
     "metadata": {},
     "output_type": "display_data"
    }
   ],
   "source": [
    "user_choice()"
   ]
  },
  {
   "cell_type": "code",
   "execution_count": 13,
   "metadata": {},
   "outputs": [
    {
     "name": "stdout",
     "output_type": "stream",
     "text": [
      "Please enter 'a' or 'b':\n",
      " \n"
     ]
    }
   ],
   "source": [
    "\n",
    "\n",
    "\n",
    "        \n",
    "if withdrawal_type.value == \"Before\":\n",
    "    withdrawal()\n",
    "    next_move = input(\"\\nMake another calculation? (Enter Y/N):\\n \")\n",
    "        \n",
    "    if next_move[0].lower() == \"y\":\n",
    "        withdrawal()\n",
    "    else:\n",
    "        print(\"\\nGoodbye :)\")\n",
    "        \n",
    "    \n",
    "elif withdrawal_type.value == \"After\":\n",
    "    retirement()\n",
    "    next_move = input(\"\\nMake another calculation? (Enter Y/N):\\n \")\n",
    "        \n",
    "    if next_move[0].lower() == \"y\":\n",
    "        withdrawal()\n",
    "    else:\n",
    "        print(\"\\nGoodbye :)\")\n",
    "        \n",
    "        \n",
    "    #elif withdrawal_type[0].lower() == \"q\":\n",
    "        #print (\"\\nGoodbye :)\")\n",
    "        #break\n",
    "        \n",
    "else:\n",
    "    print(\"Please enter 'a' or 'b':\\n \")\n",
    "        \n",
    "        \n",
    "    \n",
    "        \n",
    "        "
   ]
  },
  {
   "cell_type": "code",
   "execution_count": null,
   "metadata": {},
   "outputs": [],
   "source": []
  },
  {
   "cell_type": "code",
   "execution_count": null,
   "metadata": {},
   "outputs": [],
   "source": [
    "from tkinter import*\n",
    "root = Tk()\n",
    "root.geometry(\"300x300\")\n",
    "\n",
    "mb = Menubutton(root, text=\"This is a menu\")\n",
    "mb.menu = Menu(mb)\n",
    "mb[\"menu\"] = mb.menu\n",
    "\n",
    "mb.menu.add_command(label=\"Option 1\", command=lambda: withdrawal())\n",
    "mb.menu.add_command(label=\"Option 2\", command=lambda: print(\"This is option 2\"))\n",
    "mb.menu.add_command(label=\"Option 3\", command=lambda: print(\"This is option 3\"))\n",
    "\n",
    "mb.pack()\n",
    "\n",
    "\n",
    "\n",
    "\n",
    "root.mainloop()\n"
   ]
  },
  {
   "cell_type": "code",
   "execution_count": 24,
   "metadata": {},
   "outputs": [
    {
     "name": "stdout",
     "output_type": "stream",
     "text": [
      "How much will you withdraw from your retirement fund?: 1000000\n",
      "Total take home amount = R793000.0\n",
      "Total tax = R207000.0\n"
     ]
    }
   ],
   "source": [
    "withdrawal()"
   ]
  },
  {
   "cell_type": "code",
   "execution_count": null,
   "metadata": {},
   "outputs": [],
   "source": []
  }
 ],
 "metadata": {
  "kernelspec": {
   "display_name": "Python 3",
   "language": "python",
   "name": "python3"
  },
  "language_info": {
   "codemirror_mode": {
    "name": "ipython",
    "version": 3
   },
   "file_extension": ".py",
   "mimetype": "text/x-python",
   "name": "python",
   "nbconvert_exporter": "python",
   "pygments_lexer": "ipython3",
   "version": "3.8.5"
  }
 },
 "nbformat": 4,
 "nbformat_minor": 4
}
