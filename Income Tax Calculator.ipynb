{
 "cells": [
  {
   "cell_type": "code",
   "execution_count": null,
   "metadata": {},
   "outputs": [],
   "source": []
  },
  {
   "cell_type": "code",
   "execution_count": 81,
   "metadata": {},
   "outputs": [],
   "source": [
    "def annual_income_tax():\n",
    "    \n",
    "    \n",
    "    #While loop w/ try except to make sure user can only make valid inputs\n",
    "    #Get client age\n",
    "    while True:\n",
    "        \n",
    "        try:\n",
    "            age = float(input(\"Enter client age: \"))\n",
    "        except ValueError:\n",
    "            print(\"That is not a number\")\n",
    "            continue\n",
    "            \n",
    "        if type(age) == int or type(age) == float:\n",
    "            age = int(age)         \n",
    "            break\n",
    "    \n",
    "    \n",
    "    #Get client annual income\n",
    "    while True:            \n",
    "        \n",
    "        try:\n",
    "            income = float(input(\"Enter client annual income: \"))\n",
    "        except ValueError:\n",
    "            print (\"That is not a number\")\n",
    "            continue\n",
    "        \n",
    "        if type(income) == int or type(income) == float:\n",
    "            income = int(income)       \n",
    "            break\n",
    "            \n",
    "    \n",
    "    #Calculate tax rates\n",
    "    if income <= 216200:\n",
    "        annual_tax = (income * 0.18)\n",
    "\n",
    "    elif income <= 337800:\n",
    "        annual_tax = ((income - 216200)*0.26) + 38916\n",
    "\n",
    "    elif income <= 467500:\n",
    "        annual_tax = ((income - 337800)*0.31) + 70532\n",
    "\n",
    "    elif income <= 613600:\n",
    "        annual_tax = ((income - 467500)*0.36) + 110739\n",
    "\n",
    "    elif income <= 782200:\n",
    "        annual_tax = ((income - 613600)*0.39) + 163335\n",
    "\n",
    "    elif income <= 1656600:\n",
    "        annual_tax = ((income - 782200)*0.41) + 229089\n",
    "\n",
    "    elif income > 1656600:\n",
    "        annual_tax = ((income - 1656600)*0.45) + 587593\n",
    "        \n",
    " \n",
    "     #Deduct Tax Rebates\n",
    "    if age < 65 and annual_tax != 0:\n",
    "        annual_tax = annual_tax - 15714\n",
    "\n",
    "    elif age >= 65 and annual_tax != 0:\n",
    "        annual_tax = annual_tax - 24327\n",
    "\n",
    "    elif age >= 75 and annual_tax != 0:\n",
    "        annual_tax = annual_tax - 27198\n",
    "        \n",
    "    \n",
    "    #Fpr income below tax thresholds    \n",
    "    if income <= 87300 and age < 65:\n",
    "        annual_tax = 0\n",
    "\n",
    "    elif income <= 135150 and age >= 65:\n",
    "        annual_tax = 0\n",
    "\n",
    "    elif income <= 151100 and age >= 75:\n",
    "        annual_tax = 0\n",
    "    \n",
    "        \n",
    "    #Calculate tax rate\n",
    "    #Calculate monthly tax payments\n",
    "    monthly_tax = annual_tax/12\n",
    "    avg_tax_rate = (annual_tax/income)*100\n",
    "    avg_tax_rate = round(avg_tax_rate, 2)\n",
    "    \n",
    "    \n",
    "    #Display results to user\n",
    "    print(\"\\nYour client will pay R{} in annual income tax this year\".format(annual_tax))\n",
    "    print(\"Monthly tax = R{}\".format(monthly_tax))\n",
    "    print (\"tax rate = {}%\".format(avg_tax_rate))\n",
    "   \n",
    "       "
   ]
  },
  {
   "cell_type": "code",
   "execution_count": 82,
   "metadata": {},
   "outputs": [
    {
     "name": "stdout",
     "output_type": "stream",
     "text": [
      "Enter client age: 55\n",
      "Enter client annual income: 1000000\n",
      "\n",
      "Your client will pay R302673.0 in annual income tax this year\n",
      "Monthly tax = R25222.75\n",
      "tax rate = 30.27%\n"
     ]
    }
   ],
   "source": [
    "annual_income_tax()"
   ]
  },
  {
   "cell_type": "code",
   "execution_count": null,
   "metadata": {},
   "outputs": [],
   "source": []
  },
  {
   "cell_type": "code",
   "execution_count": null,
   "metadata": {},
   "outputs": [],
   "source": []
  }
 ],
 "metadata": {
  "kernelspec": {
   "display_name": "Python 3",
   "language": "python",
   "name": "python3"
  },
  "language_info": {
   "codemirror_mode": {
    "name": "ipython",
    "version": 3
   },
   "file_extension": ".py",
   "mimetype": "text/x-python",
   "name": "python",
   "nbconvert_exporter": "python",
   "pygments_lexer": "ipython3",
   "version": "3.8.5"
  }
 },
 "nbformat": 4,
 "nbformat_minor": 4
}
